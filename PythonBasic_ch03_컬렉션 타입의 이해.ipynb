{
 "cells": [
  {
   "cell_type": "code",
   "execution_count": null,
   "metadata": {},
   "outputs": [],
   "source": [
    "변수: 하나의 값을 저장할수 있는 메모리공간  \n",
    "    컬렉션 데이터 타입 : List, DIct, Tuple, Set  \n",
    "List:기차 생각하면됨  \n",
    "    -시퀀스 자료형  \n",
    "    -인덱스 사용 가능 (순서가 있음) 인덱스 번호 구할때 첫번째 순서 0번. 역순행으로 구할땐 -1부터  \n",
    "    -선언시 [] 사용  \n",
    "    -기차 칸 안에 아무거나 넣을수있음 (List 안에 List 도 가능- 2차원 List)  \n",
    "    -패킹과 언패킹 중요  \n",
    "Dict :{key:value}한쌍으로 값을 지정, 순서 없음(List와 아에 다르다)\n",
    "    -key값은 절대 중복 불가 value는 중복 가능\n",
    "Tuple :\n",
    "    -List와 비슷함 but tuple은 변경이 불가 값이 변경이 안되기 때문에 생성후 변경이 불가능  \n",
    "    "
   ]
  },
  {
   "cell_type": "markdown",
   "metadata": {},
   "source": [
    "## 컬렉션 타입\n",
    "- 변수: 하나에 값을 저장할 수 있는 메모리 공간  \n",
    "- 컬렉션 타입: 다양한 자료형의 여러값을 저장 가능  \n",
    "- list, dict, tuple, set\n",
    "\n",
    "1. list[.]  \n",
    "- 시퀀스 자료형(연속 된 값 저장) - 정렬 가능\n",
    "- mutable(생성 후 변경 가능)\n",
    "- index 사용 - slicing 가능\n",
    "- packing과 unpacking 가능 \n",
    "- 멤버함수: append(), extend(), insert(), remove(), pop(), sort() 등등\n",
    "\n",
    "2. tuple()\n",
    "- 시퀀스 자료형(연속 된 값 저장) - 정렬 불가능\n",
    "- immutable(생성 후 변경 불가능)\n",
    "- index 사용 - slicing 가능 \n",
    "- () 생략 가능\n",
    "- 1개의 원소만 가지는 경우 ,사용 - (1,)\n",
    "\n",
    "3. dict{key:value}\n",
    "- key, value 한 쌍으로 구성 된 구조\n",
    "- key를 통해서 value 접근\n",
    "- key 중복 불가, value 중복 가능\n",
    "- 순서 없음- index 없음 \n",
    "- 멤버함수: update(), get(), keys(), values(), items()\n",
    "\n",
    "4. set{}\n",
    "- dict type에서 key만 활용하는 데이터 구조로 이해\n",
    "- 수학 집합과 같은 개념\n",
    "- 순서 없음  index 없음\n",
    "- set 구조 내 중복값 허용 안함\n",
    "- 멤버함수: union(), intersection(), difference() 등\n"
   ]
  },
  {
   "cell_type": "code",
   "execution_count": null,
   "metadata": {},
   "outputs": [],
   "source": []
  },
  {
   "cell_type": "code",
   "execution_count": null,
   "metadata": {},
   "outputs": [],
   "source": []
  },
  {
   "cell_type": "code",
   "execution_count": null,
   "metadata": {},
   "outputs": [],
   "source": []
  },
  {
   "cell_type": "code",
   "execution_count": null,
   "metadata": {},
   "outputs": [],
   "source": []
  },
  {
   "cell_type": "code",
   "execution_count": null,
   "metadata": {},
   "outputs": [],
   "source": []
  },
  {
   "cell_type": "code",
   "execution_count": null,
   "metadata": {},
   "outputs": [],
   "source": []
  },
  {
   "cell_type": "code",
   "execution_count": 4,
   "metadata": {},
   "outputs": [],
   "source": [
    "# list 초기화\n",
    "# 1. []\n",
    "# 2. list()\n",
    "\n",
    "list_a = []\n",
    "list_b = [1, 2, 3]\n",
    "list_c = [\"cnu\", 3.14, [1, 2, 3]]"
   ]
  },
  {
   "cell_type": "code",
   "execution_count": null,
   "metadata": {},
   "outputs": [],
   "source": [
    "str_a = \"Hello\"\n",
    "list_d = list(str_a)  # 문자열 - list 형변환\n",
    "print(list_d)\n",
    "\n",
    "tuple_a = (1, 2, 3)\n",
    "list_e = list(tuple_a)\n",
    "print(lsit_e)"
   ]
  },
  {
   "cell_type": "code",
   "execution_count": 5,
   "metadata": {},
   "outputs": [
    {
     "name": "stdout",
     "output_type": "stream",
     "text": [
      "4\n",
      "[2, 3]\n",
      "[1, 2]\n"
     ]
    }
   ],
   "source": [
    "list_f = [1, 2, 3, 4, 5]\n",
    "print(list_f[3])\n",
    "print(list_f[1:3])\n",
    "print(list_f[:2])"
   ]
  },
  {
   "cell_type": "code",
   "execution_count": 6,
   "metadata": {},
   "outputs": [
    {
     "name": "stdout",
     "output_type": "stream",
     "text": [
      "[1, 2, 3, 10]\n"
     ]
    }
   ],
   "source": [
    "# append() : list 마지막에 값을 추가\n",
    "a = [1, 2, 3]\n",
    "a.append(10)\n",
    "print(a)"
   ]
  },
  {
   "cell_type": "code",
   "execution_count": 7,
   "metadata": {},
   "outputs": [
    {
     "name": "stdout",
     "output_type": "stream",
     "text": [
      "[1, 99, 2, 3]\n"
     ]
    }
   ],
   "source": [
    "# insert() : list 원하는 인덱스 위치에 값을 추가\n",
    "a = [1, 2, 3]\n",
    "a.insert(1, 99)\n",
    "print(a)"
   ]
  },
  {
   "cell_type": "code",
   "execution_count": 8,
   "metadata": {},
   "outputs": [
    {
     "name": "stdout",
     "output_type": "stream",
     "text": [
      "[1, 2, 3, [4, 5, 6]]\n"
     ]
    }
   ],
   "source": [
    "# extend() : list 와 list 병합\n",
    "a = [1, 2, 3]\n",
    "b = [4, 5, 6]\n",
    "\n",
    "a.append(b)\n",
    "print(a)"
   ]
  },
  {
   "cell_type": "code",
   "execution_count": 9,
   "metadata": {},
   "outputs": [
    {
     "name": "stdout",
     "output_type": "stream",
     "text": [
      "[1, 2, 3, 4, 5, 6]\n"
     ]
    }
   ],
   "source": [
    "a = [1, 2, 3]\n",
    "b = [4, 5, 6]\n",
    "a.extend(b)\n",
    "print(a)"
   ]
  },
  {
   "cell_type": "code",
   "execution_count": null,
   "metadata": {},
   "outputs": [],
   "source": []
  },
  {
   "cell_type": "code",
   "execution_count": null,
   "metadata": {},
   "outputs": [],
   "source": []
  }
 ],
 "metadata": {
  "kernelspec": {
   "display_name": "Python 3",
   "language": "python",
   "name": "python3"
  },
  "language_info": {
   "codemirror_mode": {
    "name": "ipython",
    "version": 3
   },
   "file_extension": ".py",
   "mimetype": "text/x-python",
   "name": "python",
   "nbconvert_exporter": "python",
   "pygments_lexer": "ipython3",
   "version": "3.7.6"
  }
 },
 "nbformat": 4,
 "nbformat_minor": 4
}
