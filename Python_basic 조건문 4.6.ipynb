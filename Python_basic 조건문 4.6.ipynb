{
 "cells": [
  {
   "cell_type": "markdown",
   "id": "464ca4d9",
   "metadata": {},
   "source": [
    "### 연습문제"
   ]
  },
  {
   "cell_type": "code",
   "execution_count": 4,
   "id": "a4739da6",
   "metadata": {},
   "outputs": [
    {
     "name": "stdout",
     "output_type": "stream",
     "text": [
      "당신이 태어난 년도를 입력하세요: 2003\n",
      "21\n",
      "2023\n",
      "대학생\n"
     ]
    }
   ],
   "source": [
    "# 문제 1. 어떤 종류의 학생인지 맞히기\n",
    "\n",
    "from datetime import datetime\n",
    "\n",
    "# 1. 사용자로부터 태어난 년도 입력받기\n",
    "born = input(\"당신이 태어난 년도를 입력하세요: \")\n",
    "age = datetime.today().year - int(born) + 1\n",
    "print(age)\n",
    "\n",
    "# year = 2023(지양해야함)\n",
    "print(datetime.today().year)\n",
    "\n",
    "# 2. 나이 계산\n",
    "age = datetime.today().year - int(born) + 1\n",
    "\n",
    "# 3. 어떤 종류의 학생인지 출력\n",
    "if age <= 26 and age >= 20:\n",
    "    print(\"대학생\")\n",
    "elif age < 20 and age >= 17:\n",
    "    print(\"고등학생\")  # 등호의 포함여부 제대로 확인하기\n",
    "elif age < 17 and age >= 14:\n",
    "    print(\"중학생\")\n",
    "elif age < 14 and age >= 8:\n",
    "    print(\"초등학생\")\n",
    "else:\n",
    "    print(\"학생이 아닙니다\")\n",
    "    "
   ]
  },
  {
   "cell_type": "code",
   "execution_count": null,
   "id": "6a72603b",
   "metadata": {},
   "outputs": [],
   "source": [
    "# 문제 2. 학점계산기\n",
    "\n",
    "# 1. 사용자로부터 학점 입력(소수점, ex:4.2)\n",
    "\n",
    "# + 추가조건: 사용자가 입력한 값이 0.0~4.5이면 2번으로 넘어감.\n",
    "              아니면 error 문구 출력(0.0~4.5 사이의 값을 입력해주세요)\n",
    "\n",
    "# 2. 입력받은 학점에 따라 등급 출력\n",
    "# 4.0~4.5 A\n",
    "# 3.5~3.9 B\n",
    "# 3.0~3.4 C\n",
    "# 2.5~2.9 D\n",
    "# 그 외 F"
   ]
  }
 ],
 "metadata": {
  "kernelspec": {
   "display_name": "Python 3 (ipykernel)",
   "language": "python",
   "name": "python3"
  },
  "language_info": {
   "codemirror_mode": {
    "name": "ipython",
    "version": 3
   },
   "file_extension": ".py",
   "mimetype": "text/x-python",
   "name": "python",
   "nbconvert_exporter": "python",
   "pygments_lexer": "ipython3",
   "version": "3.10.9"
  }
 },
 "nbformat": 4,
 "nbformat_minor": 5
}
